{
  "nbformat": 4,
  "nbformat_minor": 0,
  "metadata": {
    "kernelspec": {
      "display_name": "Python 3",
      "language": "python",
      "name": "python3"
    },
    "language_info": {
      "codemirror_mode": {
        "name": "ipython",
        "version": 3
      },
      "file_extension": ".py",
      "mimetype": "text/x-python",
      "name": "python",
      "nbconvert_exporter": "python",
      "pygments_lexer": "ipython3",
      "version": "3.8.5"
    },
    "colab": {
      "name": "SIR_MAIN.ipynb",
      "provenance": []
    },
    "widgets": {
      "application/vnd.jupyter.widget-state+json": {
        "d56b83e5af37438cb4f208fe0c616c4b": {
          "model_module": "@jupyter-widgets/controls",
          "model_name": "FloatSliderModel",
          "state": {
            "_view_name": "FloatSliderView",
            "style": "IPY_MODEL_37e5845ca50a46c988c75e8a7deb2156",
            "_dom_classes": [],
            "description": "S0",
            "step": 0.1,
            "_model_name": "FloatSliderModel",
            "orientation": "horizontal",
            "max": 1,
            "_view_module": "@jupyter-widgets/controls",
            "_model_module_version": "1.5.0",
            "value": 0.8,
            "_view_count": null,
            "disabled": false,
            "_view_module_version": "1.5.0",
            "min": 0,
            "continuous_update": true,
            "readout_format": ".2f",
            "description_tooltip": null,
            "readout": true,
            "_model_module": "@jupyter-widgets/controls",
            "layout": "IPY_MODEL_b1ab59f416a14fe2842843afd52bd017"
          }
        },
        "37e5845ca50a46c988c75e8a7deb2156": {
          "model_module": "@jupyter-widgets/controls",
          "model_name": "SliderStyleModel",
          "state": {
            "_view_name": "StyleView",
            "handle_color": null,
            "_model_name": "SliderStyleModel",
            "description_width": "",
            "_view_module": "@jupyter-widgets/base",
            "_model_module_version": "1.5.0",
            "_view_count": null,
            "_view_module_version": "1.2.0",
            "_model_module": "@jupyter-widgets/controls"
          }
        },
        "b1ab59f416a14fe2842843afd52bd017": {
          "model_module": "@jupyter-widgets/base",
          "model_name": "LayoutModel",
          "state": {
            "_view_name": "LayoutView",
            "grid_template_rows": null,
            "right": null,
            "justify_content": null,
            "_view_module": "@jupyter-widgets/base",
            "overflow": null,
            "_model_module_version": "1.2.0",
            "_view_count": null,
            "flex_flow": null,
            "width": null,
            "min_width": null,
            "border": null,
            "align_items": null,
            "bottom": null,
            "_model_module": "@jupyter-widgets/base",
            "top": null,
            "grid_column": null,
            "overflow_y": null,
            "overflow_x": null,
            "grid_auto_flow": null,
            "grid_area": null,
            "grid_template_columns": null,
            "flex": null,
            "_model_name": "LayoutModel",
            "justify_items": null,
            "grid_row": null,
            "max_height": null,
            "align_content": null,
            "visibility": null,
            "align_self": null,
            "height": null,
            "min_height": null,
            "padding": null,
            "grid_auto_rows": null,
            "grid_gap": null,
            "max_width": null,
            "order": null,
            "_view_module_version": "1.2.0",
            "grid_template_areas": null,
            "object_position": null,
            "object_fit": null,
            "grid_auto_columns": null,
            "margin": null,
            "display": null,
            "left": null
          }
        },
        "cbd54087927145c088cb0ba7c9301d11": {
          "model_module": "@jupyter-widgets/controls",
          "model_name": "FloatSliderModel",
          "state": {
            "_view_name": "FloatSliderView",
            "style": "IPY_MODEL_2a9c9daaa9f24d7683f5cdfe8b98a703",
            "_dom_classes": [],
            "description": "I0",
            "step": 0.1,
            "_model_name": "FloatSliderModel",
            "orientation": "horizontal",
            "max": 1,
            "_view_module": "@jupyter-widgets/controls",
            "_model_module_version": "1.5.0",
            "value": 0.2,
            "_view_count": null,
            "disabled": false,
            "_view_module_version": "1.5.0",
            "min": 0,
            "continuous_update": true,
            "readout_format": ".2f",
            "description_tooltip": null,
            "readout": true,
            "_model_module": "@jupyter-widgets/controls",
            "layout": "IPY_MODEL_8890e934c93441d39dd5170aaae7dec8"
          }
        },
        "2a9c9daaa9f24d7683f5cdfe8b98a703": {
          "model_module": "@jupyter-widgets/controls",
          "model_name": "SliderStyleModel",
          "state": {
            "_view_name": "StyleView",
            "handle_color": null,
            "_model_name": "SliderStyleModel",
            "description_width": "",
            "_view_module": "@jupyter-widgets/base",
            "_model_module_version": "1.5.0",
            "_view_count": null,
            "_view_module_version": "1.2.0",
            "_model_module": "@jupyter-widgets/controls"
          }
        },
        "8890e934c93441d39dd5170aaae7dec8": {
          "model_module": "@jupyter-widgets/base",
          "model_name": "LayoutModel",
          "state": {
            "_view_name": "LayoutView",
            "grid_template_rows": null,
            "right": null,
            "justify_content": null,
            "_view_module": "@jupyter-widgets/base",
            "overflow": null,
            "_model_module_version": "1.2.0",
            "_view_count": null,
            "flex_flow": null,
            "width": null,
            "min_width": null,
            "border": null,
            "align_items": null,
            "bottom": null,
            "_model_module": "@jupyter-widgets/base",
            "top": null,
            "grid_column": null,
            "overflow_y": null,
            "overflow_x": null,
            "grid_auto_flow": null,
            "grid_area": null,
            "grid_template_columns": null,
            "flex": null,
            "_model_name": "LayoutModel",
            "justify_items": null,
            "grid_row": null,
            "max_height": null,
            "align_content": null,
            "visibility": null,
            "align_self": null,
            "height": null,
            "min_height": null,
            "padding": null,
            "grid_auto_rows": null,
            "grid_gap": null,
            "max_width": null,
            "order": null,
            "_view_module_version": "1.2.0",
            "grid_template_areas": null,
            "object_position": null,
            "object_fit": null,
            "grid_auto_columns": null,
            "margin": null,
            "display": null,
            "left": null
          }
        },
        "bdc962b514014af9bd7cd0799f5dcdd5": {
          "model_module": "@jupyter-widgets/controls",
          "model_name": "IntSliderModel",
          "state": {
            "_view_name": "IntSliderView",
            "style": "IPY_MODEL_11d12b16f0ad456394745bd659b6bef5",
            "_dom_classes": [],
            "description": "N",
            "step": 10,
            "_model_name": "IntSliderModel",
            "orientation": "horizontal",
            "max": 100,
            "_view_module": "@jupyter-widgets/controls",
            "_model_module_version": "1.5.0",
            "value": 30,
            "_view_count": null,
            "disabled": false,
            "_view_module_version": "1.5.0",
            "min": 10,
            "continuous_update": true,
            "readout_format": "d",
            "description_tooltip": null,
            "readout": true,
            "_model_module": "@jupyter-widgets/controls",
            "layout": "IPY_MODEL_0acd4a35a1864ccf85803c8afefa5f17"
          }
        },
        "11d12b16f0ad456394745bd659b6bef5": {
          "model_module": "@jupyter-widgets/controls",
          "model_name": "SliderStyleModel",
          "state": {
            "_view_name": "StyleView",
            "handle_color": null,
            "_model_name": "SliderStyleModel",
            "description_width": "",
            "_view_module": "@jupyter-widgets/base",
            "_model_module_version": "1.5.0",
            "_view_count": null,
            "_view_module_version": "1.2.0",
            "_model_module": "@jupyter-widgets/controls"
          }
        },
        "0acd4a35a1864ccf85803c8afefa5f17": {
          "model_module": "@jupyter-widgets/base",
          "model_name": "LayoutModel",
          "state": {
            "_view_name": "LayoutView",
            "grid_template_rows": null,
            "right": null,
            "justify_content": null,
            "_view_module": "@jupyter-widgets/base",
            "overflow": null,
            "_model_module_version": "1.2.0",
            "_view_count": null,
            "flex_flow": null,
            "width": null,
            "min_width": null,
            "border": null,
            "align_items": null,
            "bottom": null,
            "_model_module": "@jupyter-widgets/base",
            "top": null,
            "grid_column": null,
            "overflow_y": null,
            "overflow_x": null,
            "grid_auto_flow": null,
            "grid_area": null,
            "grid_template_columns": null,
            "flex": null,
            "_model_name": "LayoutModel",
            "justify_items": null,
            "grid_row": null,
            "max_height": null,
            "align_content": null,
            "visibility": null,
            "align_self": null,
            "height": null,
            "min_height": null,
            "padding": null,
            "grid_auto_rows": null,
            "grid_gap": null,
            "max_width": null,
            "order": null,
            "_view_module_version": "1.2.0",
            "grid_template_areas": null,
            "object_position": null,
            "object_fit": null,
            "grid_auto_columns": null,
            "margin": null,
            "display": null,
            "left": null
          }
        },
        "61a8846c4a834507afb3a0cf3332f5b3": {
          "model_module": "@jupyter-widgets/controls",
          "model_name": "FloatSliderModel",
          "state": {
            "_view_name": "FloatSliderView",
            "style": "IPY_MODEL_a96195a83a21407d8749b61af081c6b1",
            "_dom_classes": [],
            "description": "beta",
            "step": 0.1,
            "_model_name": "FloatSliderModel",
            "orientation": "horizontal",
            "max": 1,
            "_view_module": "@jupyter-widgets/controls",
            "_model_module_version": "1.5.0",
            "value": 0.1,
            "_view_count": null,
            "disabled": false,
            "_view_module_version": "1.5.0",
            "min": 0,
            "continuous_update": true,
            "readout_format": ".2f",
            "description_tooltip": null,
            "readout": true,
            "_model_module": "@jupyter-widgets/controls",
            "layout": "IPY_MODEL_9a39fc2aeb9e4b25ad64682213d2a1be"
          }
        },
        "a96195a83a21407d8749b61af081c6b1": {
          "model_module": "@jupyter-widgets/controls",
          "model_name": "SliderStyleModel",
          "state": {
            "_view_name": "StyleView",
            "handle_color": null,
            "_model_name": "SliderStyleModel",
            "description_width": "",
            "_view_module": "@jupyter-widgets/base",
            "_model_module_version": "1.5.0",
            "_view_count": null,
            "_view_module_version": "1.2.0",
            "_model_module": "@jupyter-widgets/controls"
          }
        },
        "9a39fc2aeb9e4b25ad64682213d2a1be": {
          "model_module": "@jupyter-widgets/base",
          "model_name": "LayoutModel",
          "state": {
            "_view_name": "LayoutView",
            "grid_template_rows": null,
            "right": null,
            "justify_content": null,
            "_view_module": "@jupyter-widgets/base",
            "overflow": null,
            "_model_module_version": "1.2.0",
            "_view_count": null,
            "flex_flow": null,
            "width": null,
            "min_width": null,
            "border": null,
            "align_items": null,
            "bottom": null,
            "_model_module": "@jupyter-widgets/base",
            "top": null,
            "grid_column": null,
            "overflow_y": null,
            "overflow_x": null,
            "grid_auto_flow": null,
            "grid_area": null,
            "grid_template_columns": null,
            "flex": null,
            "_model_name": "LayoutModel",
            "justify_items": null,
            "grid_row": null,
            "max_height": null,
            "align_content": null,
            "visibility": null,
            "align_self": null,
            "height": null,
            "min_height": null,
            "padding": null,
            "grid_auto_rows": null,
            "grid_gap": null,
            "max_width": null,
            "order": null,
            "_view_module_version": "1.2.0",
            "grid_template_areas": null,
            "object_position": null,
            "object_fit": null,
            "grid_auto_columns": null,
            "margin": null,
            "display": null,
            "left": null
          }
        },
        "579202798e364f899a82222ddf716e48": {
          "model_module": "@jupyter-widgets/controls",
          "model_name": "IntSliderModel",
          "state": {
            "_view_name": "IntSliderView",
            "style": "IPY_MODEL_f2d09735145f4909ad0d6d0273341dd1",
            "_dom_classes": [],
            "description": "lambda",
            "step": 1,
            "_model_name": "IntSliderModel",
            "orientation": "horizontal",
            "max": 30,
            "_view_module": "@jupyter-widgets/controls",
            "_model_module_version": "1.5.0",
            "value": 5,
            "_view_count": null,
            "disabled": false,
            "_view_module_version": "1.5.0",
            "min": 5,
            "continuous_update": true,
            "readout_format": "d",
            "description_tooltip": null,
            "readout": true,
            "_model_module": "@jupyter-widgets/controls",
            "layout": "IPY_MODEL_1de0dc6cab6e435ebbbc36c84b471641"
          }
        },
        "f2d09735145f4909ad0d6d0273341dd1": {
          "model_module": "@jupyter-widgets/controls",
          "model_name": "SliderStyleModel",
          "state": {
            "_view_name": "StyleView",
            "handle_color": null,
            "_model_name": "SliderStyleModel",
            "description_width": "",
            "_view_module": "@jupyter-widgets/base",
            "_model_module_version": "1.5.0",
            "_view_count": null,
            "_view_module_version": "1.2.0",
            "_model_module": "@jupyter-widgets/controls"
          }
        },
        "1de0dc6cab6e435ebbbc36c84b471641": {
          "model_module": "@jupyter-widgets/base",
          "model_name": "LayoutModel",
          "state": {
            "_view_name": "LayoutView",
            "grid_template_rows": null,
            "right": null,
            "justify_content": null,
            "_view_module": "@jupyter-widgets/base",
            "overflow": null,
            "_model_module_version": "1.2.0",
            "_view_count": null,
            "flex_flow": null,
            "width": null,
            "min_width": null,
            "border": null,
            "align_items": null,
            "bottom": null,
            "_model_module": "@jupyter-widgets/base",
            "top": null,
            "grid_column": null,
            "overflow_y": null,
            "overflow_x": null,
            "grid_auto_flow": null,
            "grid_area": null,
            "grid_template_columns": null,
            "flex": null,
            "_model_name": "LayoutModel",
            "justify_items": null,
            "grid_row": null,
            "max_height": null,
            "align_content": null,
            "visibility": null,
            "align_self": null,
            "height": null,
            "min_height": null,
            "padding": null,
            "grid_auto_rows": null,
            "grid_gap": null,
            "max_width": null,
            "order": null,
            "_view_module_version": "1.2.0",
            "grid_template_areas": null,
            "object_position": null,
            "object_fit": null,
            "grid_auto_columns": null,
            "margin": null,
            "display": null,
            "left": null
          }
        },
        "7c86dc03503540449adcfbdbc495f851": {
          "model_module": "@jupyter-widgets/controls",
          "model_name": "FloatSliderModel",
          "state": {
            "_view_name": "FloatSliderView",
            "style": "IPY_MODEL_a6a36e231edb408a95018d454e207d78",
            "_dom_classes": [],
            "description": "mu",
            "step": 0.01,
            "_model_name": "FloatSliderModel",
            "orientation": "horizontal",
            "max": 0.1,
            "_view_module": "@jupyter-widgets/controls",
            "_model_module_version": "1.5.0",
            "value": 0.01,
            "_view_count": null,
            "disabled": false,
            "_view_module_version": "1.5.0",
            "min": 0,
            "continuous_update": true,
            "readout_format": ".2f",
            "description_tooltip": null,
            "readout": true,
            "_model_module": "@jupyter-widgets/controls",
            "layout": "IPY_MODEL_aa59184acc394b2f948802183049e71f"
          }
        },
        "a6a36e231edb408a95018d454e207d78": {
          "model_module": "@jupyter-widgets/controls",
          "model_name": "SliderStyleModel",
          "state": {
            "_view_name": "StyleView",
            "handle_color": null,
            "_model_name": "SliderStyleModel",
            "description_width": "",
            "_view_module": "@jupyter-widgets/base",
            "_model_module_version": "1.5.0",
            "_view_count": null,
            "_view_module_version": "1.2.0",
            "_model_module": "@jupyter-widgets/controls"
          }
        },
        "aa59184acc394b2f948802183049e71f": {
          "model_module": "@jupyter-widgets/base",
          "model_name": "LayoutModel",
          "state": {
            "_view_name": "LayoutView",
            "grid_template_rows": null,
            "right": null,
            "justify_content": null,
            "_view_module": "@jupyter-widgets/base",
            "overflow": null,
            "_model_module_version": "1.2.0",
            "_view_count": null,
            "flex_flow": null,
            "width": null,
            "min_width": null,
            "border": null,
            "align_items": null,
            "bottom": null,
            "_model_module": "@jupyter-widgets/base",
            "top": null,
            "grid_column": null,
            "overflow_y": null,
            "overflow_x": null,
            "grid_auto_flow": null,
            "grid_area": null,
            "grid_template_columns": null,
            "flex": null,
            "_model_name": "LayoutModel",
            "justify_items": null,
            "grid_row": null,
            "max_height": null,
            "align_content": null,
            "visibility": null,
            "align_self": null,
            "height": null,
            "min_height": null,
            "padding": null,
            "grid_auto_rows": null,
            "grid_gap": null,
            "max_width": null,
            "order": null,
            "_view_module_version": "1.2.0",
            "grid_template_areas": null,
            "object_position": null,
            "object_fit": null,
            "grid_auto_columns": null,
            "margin": null,
            "display": null,
            "left": null
          }
        }
      }
    }
  },
  "cells": [
    {
      "cell_type": "markdown",
      "metadata": {
        "id": "VgHuA7L4QWRI"
      },
      "source": [
        "# SIR MODEL"
      ]
    },
    {
      "cell_type": "code",
      "metadata": {
        "id": "YMQsiI28QWRx"
      },
      "source": [
        "import numpy as np\n",
        "import matplotlib.pyplot as plt"
      ],
      "execution_count": 1,
      "outputs": []
    },
    {
      "cell_type": "code",
      "metadata": {
        "id": "3Gl0HyEmQWR9"
      },
      "source": [
        "def AIO(t,b,ld,mu,h,N):\n",
        "    return np.array([-b*t[1]*t[0],b*t[1]*t[0]-t[1]/ld-mu*t[1],t[1]/ld])"
      ],
      "execution_count": 2,
      "outputs": []
    },
    {
      "cell_type": "code",
      "metadata": {
        "id": "p1lX0faKQWSC"
      },
      "source": [
        "import ipywidgets as widgets \n",
        "b1=widgets.FloatSlider(value=0.8,min=0,max=1,step=0.1,description='S0')\n",
        "b2=widgets.FloatSlider(value=0.2,min=0,max=1,step=0.1,description='I0')\n",
        "b3=widgets.IntSlider(value=30,min=10,max=100,step=10,description='N')\n",
        "b4=widgets.FloatSlider(value=0.1,min=0,max=1,step=0.1,description='beta')\n",
        "b5=widgets.IntSlider(value=5,min=5,max=30,step=1,description='lambda')\n",
        "b6=widgets.FloatSlider(value=0.01,min=0,max=0.1,step=0.01,description='mu')"
      ],
      "execution_count": 3,
      "outputs": []
    },
    {
      "cell_type": "code",
      "metadata": {
        "colab": {
          "base_uri": "https://localhost:8080/",
          "height": 49,
          "referenced_widgets": [
            "d56b83e5af37438cb4f208fe0c616c4b",
            "37e5845ca50a46c988c75e8a7deb2156",
            "b1ab59f416a14fe2842843afd52bd017"
          ]
        },
        "id": "E81dFICRQWSF",
        "outputId": "eea253ef-0f86-4e27-ead5-f83d073eb413"
      },
      "source": [
        "b1"
      ],
      "execution_count": 4,
      "outputs": [
        {
          "output_type": "display_data",
          "data": {
            "application/vnd.jupyter.widget-view+json": {
              "model_id": "d56b83e5af37438cb4f208fe0c616c4b",
              "version_minor": 0,
              "version_major": 2
            },
            "text/plain": [
              "FloatSlider(value=0.8, description='S0', max=1.0)"
            ]
          },
          "metadata": {
            "tags": []
          }
        }
      ]
    },
    {
      "cell_type": "code",
      "metadata": {
        "colab": {
          "base_uri": "https://localhost:8080/",
          "height": 49,
          "referenced_widgets": [
            "cbd54087927145c088cb0ba7c9301d11",
            "2a9c9daaa9f24d7683f5cdfe8b98a703",
            "8890e934c93441d39dd5170aaae7dec8"
          ]
        },
        "id": "YW72tHpSQWSO",
        "outputId": "7d191d60-2f07-41d8-9740-777aa0371204"
      },
      "source": [
        "b2"
      ],
      "execution_count": 5,
      "outputs": [
        {
          "output_type": "display_data",
          "data": {
            "application/vnd.jupyter.widget-view+json": {
              "model_id": "cbd54087927145c088cb0ba7c9301d11",
              "version_minor": 0,
              "version_major": 2
            },
            "text/plain": [
              "FloatSlider(value=0.2, description='I0', max=1.0)"
            ]
          },
          "metadata": {
            "tags": []
          }
        }
      ]
    },
    {
      "cell_type": "code",
      "metadata": {
        "colab": {
          "base_uri": "https://localhost:8080/",
          "height": 49,
          "referenced_widgets": [
            "bdc962b514014af9bd7cd0799f5dcdd5",
            "11d12b16f0ad456394745bd659b6bef5",
            "0acd4a35a1864ccf85803c8afefa5f17"
          ]
        },
        "id": "pT9D0UxUQWST",
        "outputId": "295a7cd5-72f2-4f2e-a27a-6a5c7aa214be"
      },
      "source": [
        "b3"
      ],
      "execution_count": 6,
      "outputs": [
        {
          "output_type": "display_data",
          "data": {
            "application/vnd.jupyter.widget-view+json": {
              "model_id": "bdc962b514014af9bd7cd0799f5dcdd5",
              "version_minor": 0,
              "version_major": 2
            },
            "text/plain": [
              "IntSlider(value=30, description='N', min=10, step=10)"
            ]
          },
          "metadata": {
            "tags": []
          }
        }
      ]
    },
    {
      "cell_type": "code",
      "metadata": {
        "colab": {
          "base_uri": "https://localhost:8080/",
          "height": 49,
          "referenced_widgets": [
            "61a8846c4a834507afb3a0cf3332f5b3",
            "a96195a83a21407d8749b61af081c6b1",
            "9a39fc2aeb9e4b25ad64682213d2a1be"
          ]
        },
        "id": "YjgTGqHeQWSV",
        "outputId": "4dc3f78a-8547-479f-f5e8-2ecfe06114ef"
      },
      "source": [
        "b4"
      ],
      "execution_count": 7,
      "outputs": [
        {
          "output_type": "display_data",
          "data": {
            "application/vnd.jupyter.widget-view+json": {
              "model_id": "61a8846c4a834507afb3a0cf3332f5b3",
              "version_minor": 0,
              "version_major": 2
            },
            "text/plain": [
              "FloatSlider(value=0.1, description='beta', max=1.0)"
            ]
          },
          "metadata": {
            "tags": []
          }
        }
      ]
    },
    {
      "cell_type": "code",
      "metadata": {
        "colab": {
          "base_uri": "https://localhost:8080/",
          "height": 49,
          "referenced_widgets": [
            "579202798e364f899a82222ddf716e48",
            "f2d09735145f4909ad0d6d0273341dd1",
            "1de0dc6cab6e435ebbbc36c84b471641"
          ]
        },
        "id": "DlxGuw8EQWSa",
        "outputId": "b7ec6979-1045-4f66-8193-1e300392e1ac"
      },
      "source": [
        "b5"
      ],
      "execution_count": 8,
      "outputs": [
        {
          "output_type": "display_data",
          "data": {
            "application/vnd.jupyter.widget-view+json": {
              "model_id": "579202798e364f899a82222ddf716e48",
              "version_minor": 0,
              "version_major": 2
            },
            "text/plain": [
              "IntSlider(value=5, description='lambda', max=30, min=5)"
            ]
          },
          "metadata": {
            "tags": []
          }
        }
      ]
    },
    {
      "cell_type": "code",
      "metadata": {
        "colab": {
          "base_uri": "https://localhost:8080/",
          "height": 49,
          "referenced_widgets": [
            "7c86dc03503540449adcfbdbc495f851",
            "a6a36e231edb408a95018d454e207d78",
            "aa59184acc394b2f948802183049e71f"
          ]
        },
        "id": "Kru5T1CmQWSc",
        "outputId": "1d507f08-a30c-4cae-8b05-94eedc1750ab"
      },
      "source": [
        "b6"
      ],
      "execution_count": 9,
      "outputs": [
        {
          "output_type": "display_data",
          "data": {
            "application/vnd.jupyter.widget-view+json": {
              "model_id": "7c86dc03503540449adcfbdbc495f851",
              "version_minor": 0,
              "version_major": 2
            },
            "text/plain": [
              "FloatSlider(value=0.01, description='mu', max=0.1, step=0.01)"
            ]
          },
          "metadata": {
            "tags": []
          }
        }
      ]
    },
    {
      "cell_type": "code",
      "metadata": {
        "id": "lNt2G4wkQWSg"
      },
      "source": [
        "#Initial Parametres : \n",
        "# choose values with sliders\n",
        "T=30\n",
        "N=b3.value\n",
        "h=T/N\n",
        "S=np.zeros(N);S[0]=b1.value\n",
        "I=np.zeros(N);I[0]=b2.value\n",
        "R=np.zeros(N);R[0]=0\n",
        "b=b4.value\n",
        "ld=b5.value\n",
        "mu=b6.value"
      ],
      "execution_count": 10,
      "outputs": []
    },
    {
      "cell_type": "markdown",
      "metadata": {
        "id": "9J4bc7zfQWSj"
      },
      "source": [
        "## EXPLICIT EULER"
      ]
    },
    {
      "cell_type": "code",
      "metadata": {
        "id": "wXHGIQvMQWSl"
      },
      "source": [
        "def euler_exp(S,I,R,b,ld,mu,h,N):\n",
        "    for i in range(1,N):\n",
        "        tmp1=np.array([S[i-1],I[i-1],R[i-1]])\n",
        "        S[i],I[i],R[i]=tmp1+h*AIO(tmp1,b,ld,mu,h,N)\n",
        "    return S,I,R"
      ],
      "execution_count": 11,
      "outputs": []
    },
    {
      "cell_type": "code",
      "metadata": {
        "colab": {
          "base_uri": "https://localhost:8080/",
          "height": 265
        },
        "id": "XwSD5561QWSn",
        "outputId": "005c61ae-de9f-4a97-bbab-01c9de04eec1"
      },
      "source": [
        "S,I,R=euler_exp(S,I,R,b,ld,mu,h,N)\n",
        "fig, ax = plt.subplots()\n",
        "ax.plot( S, label='Sain')\n",
        "ax.plot( I, label='Infecte')\n",
        "ax.plot( R, label='Retabli')\n",
        "leg = ax.legend();"
      ],
      "execution_count": 12,
      "outputs": [
        {
          "output_type": "display_data",
          "data": {
            "image/png": "[encoded data removed]",
            "text/plain": [
              "<Figure size 432x288 with 1 Axes>"
            ]
          },
          "metadata": {
            "tags": [],
            "needs_background": "light"
          }
        }
      ]
    },
    {
      "cell_type": "markdown",
      "metadata": {
        "id": "fvGSTRDkQWSq"
      },
      "source": [
        "## IMPLICIT EULER "
      ]
    },
    {
      "cell_type": "code",
      "metadata": {
        "id": "t9-6OjbJQWSr"
      },
      "source": [
        "def Fi(b,ld,mu,I,S):\n",
        "    return b*I*S-I/ld-mu*I"
      ],
      "execution_count": 13,
      "outputs": []
    },
    {
      "cell_type": "code",
      "metadata": {
        "id": "O8iKc3EyQWSt"
      },
      "source": [
        "def pt_fixe(S0,I0,b,ld,mu,h):\n",
        "    y=I0\n",
        "    for i in range (1000):\n",
        "        y=I0+h*Fi(b,ld,mu,y,S0/(1+h*b*y))\n",
        "    return y"
      ],
      "execution_count": 14,
      "outputs": []
    },
    {
      "cell_type": "code",
      "metadata": {
        "id": "G5CdfZB4QWSv"
      },
      "source": [
        "def euler_imp(S,I,R,b,ld,mu,h,N):\n",
        "    for i in range(0,N-1):\n",
        "        I[i+1]=pt_fixe(S[i],I[i],b,ld,mu,h)\n",
        "        S[i+1]=S[i]-h*b*I[i+1]*(S[i]/(1+h*b*I[i-1]))\n",
        "        R[i+1]=R[i]+(h*I[i+1])/ld\n",
        "    return I,S,R"
      ],
      "execution_count": 15,
      "outputs": []
    },
    {
      "cell_type": "code",
      "metadata": {
        "colab": {
          "base_uri": "https://localhost:8080/",
          "height": 265
        },
        "id": "zzSDQLchQWSx",
        "outputId": "022d4e85-1f80-4d9b-a15d-ff47eb454842"
      },
      "source": [
        "I,S,R=euler_imp(S,I,R,b,ld,mu,h,N)\n",
        "fig, ax = plt.subplots()\n",
        "ax.plot( S, label='Sain')\n",
        "ax.plot( I, label='Infecte')\n",
        "ax.plot( R, label='Retabli')\n",
        "leg = ax.legend();"
      ],
      "execution_count": 16,
      "outputs": [
        {
          "output_type": "display_data",
          "data": {
            "image/png": "[encoded data removed]",
            "text/plain": [
              "<Figure size 432x288 with 1 Axes>"
            ]
          },
          "metadata": {
            "tags": [],
            "needs_background": "light"
          }
        }
      ]
    },
    {
      "cell_type": "markdown",
      "metadata": {
        "id": "ue9iOORnQWSz"
      },
      "source": [
        "## RUNGE KUTTA 2 (HEUN)"
      ]
    },
    {
      "cell_type": "code",
      "metadata": {
        "id": "LMyq0PRFQWS0"
      },
      "source": [
        "def Heun(S,I,R,b,ld,mu,h,N):\n",
        "    for i in range (1,N):\n",
        "        tmp1=np.array([S[i-1],I[i-1],R[i-1]])\n",
        "        tmp2=tmp1+h*AIO(tmp1,b,ld,mu,h,N)\n",
        "        S[i],I[i],R[i]=tmp1+(h/2)*(AIO(tmp1,b,ld,mu,h,N)+AIO(tmp2,b,ld,mu,h,N))\n",
        "        return S,I,R"
      ],
      "execution_count": 17,
      "outputs": []
    },
    {
      "cell_type": "code",
      "metadata": {
        "colab": {
          "base_uri": "https://localhost:8080/",
          "height": 265
        },
        "id": "5q6EbHCCQWS1",
        "outputId": "caac5517-5d62-478b-d78d-3c5d3d8436df"
      },
      "source": [
        "S,I,R=Heun(S,I,R,b,ld,mu,h,N)\n",
        "fig, ax = plt.subplots()\n",
        "ax.plot( S, label='Sain')\n",
        "ax.plot( I, label='Infecte')\n",
        "ax.plot( R, label='Retabli')\n",
        "leg = ax.legend();"
      ],
      "execution_count": 18,
      "outputs": [
        {
          "output_type": "display_data",
          "data": {
            "image/png": "[encoded data removed]",
            "text/plain": [
              "<Figure size 432x288 with 1 Axes>"
            ]
          },
          "metadata": {
            "tags": [],
            "needs_background": "light"
          }
        }
      ]
    },
    {
      "cell_type": "markdown",
      "metadata": {
        "id": "8p4nmdCXQWS3"
      },
      "source": [
        "## RUNGE KUNTA 4"
      ]
    },
    {
      "cell_type": "code",
      "metadata": {
        "id": "s7KVgy3rQWS5"
      },
      "source": [
        "def runge_kutta4(S,I,R,b,ld,mu,h,N):\n",
        "    for i in range (1,N):\n",
        "        tmp1=np.array([S[i-1],I[i-1],R[i-1]])\n",
        "        tmp2=tmp1+(h/2)*AIO(tmp1,b,ld,mu,h,N)\n",
        "        tmp3=tmp1+(h/2)*AIO(tmp2,b,ld,mu,h,N)\n",
        "        tmp4=tmp1+(h/2)*AIO(tmp3,b,ld,mu,h,N)\n",
        "        S[i],I[i],R[i]=tmp1+(h/6)*(AIO(tmp1,b,ld,mu,h,N)+2*AIO(tmp2,b,ld,mu,h,N)+2*AIO(tmp3,b,ld,mu,h,N)+AIO(tmp4,b,ld,mu,h,N))\n",
        "    return S,I,R\n"
      ],
      "execution_count": 19,
      "outputs": []
    },
    {
      "cell_type": "code",
      "metadata": {
        "colab": {
          "base_uri": "https://localhost:8080/",
          "height": 265
        },
        "id": "04N6oCjxQWS6",
        "outputId": "a6b4e0b7-1279-4982-e119-c2fde34ba3a0"
      },
      "source": [
        "S,I,R=runge_kutta4(S,I,R,b,ld,mu,h,N)\n",
        "fig, ax = plt.subplots()\n",
        "ax.plot( S, label='Sain')\n",
        "ax.plot( I, label='Infecte')\n",
        "ax.plot( R, label='Retabli')\n",
        "leg = ax.legend();"
      ],
      "execution_count": 20,
      "outputs": [
        {
          "output_type": "display_data",
          "data": {
            "image/png": "[encoded data removed]",
            "text/plain": [
              "<Figure size 432x288 with 1 Axes>"
            ]
          },
          "metadata": {
            "tags": [],
            "needs_background": "light"
          }
        }
      ]
    }
  ]
}