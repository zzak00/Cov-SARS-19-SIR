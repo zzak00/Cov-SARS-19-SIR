{
 "cells": [
  {
   "cell_type": "markdown",
   "metadata": {},
   "source": [
    "# MINI PROJET"
   ]
  },
  {
   "cell_type": "code",
   "execution_count": 1,
   "metadata": {},
   "outputs": [],
   "source": [
    "import numpy as np\n",
    "import matplotlib.pyplot as plt"
   ]
  },
  {
   "cell_type": "code",
   "execution_count": 2,
   "metadata": {},
   "outputs": [],
   "source": [
    "def AIO(t,b,ld,mu,h,N):\n",
    "    return np.array([-b*t[1]*t[0],b*t[1]*t[0]-t[1]/ld-mu*t[1],t[1]/ld])"
   ]
  },
  {
   "cell_type": "code",
   "execution_count": 3,
   "metadata": {},
   "outputs": [],
   "source": [
    "import ipywidgets as widgets \n",
    "b1=widgets.FloatSlider(value=0.8,min=0,max=1,step=0.1,description='S0')\n",
    "b2=widgets.FloatSlider(value=0.2,min=0,max=1,step=0.1,description='I0')\n",
    "b3=widgets.IntSlider(value=30,min=10,max=100,step=10,description='N')\n",
    "b4=widgets.FloatSlider(value=0.1,min=0,max=1,step=0.1,description='beta')\n",
    "b5=widgets.IntSlider(value=5,min=5,max=30,step=1,description='lambda')\n",
    "b6=widgets.FloatSlider(value=0.01,min=0,max=0.1,step=0.01,description='mu')"
   ]
  },
  {
   "cell_type": "code",
   "execution_count": 4,
   "metadata": {},
   "outputs": [
    {
     "data": {
      "application/vnd.jupyter.widget-view+json": {
       "model_id": "f2a46d8c7bbb47a580201cb779b7a586",
       "version_major": 2,
       "version_minor": 0
      },
      "text/plain": [
       "FloatSlider(value=0.8, description='S0', max=1.0)"
      ]
     },
     "metadata": {},
     "output_type": "display_data"
    }
   ],
   "source": [
    "b1"
   ]
  },
  {
   "cell_type": "code",
   "execution_count": 5,
   "metadata": {},
   "outputs": [
    {
     "data": {
      "application/vnd.jupyter.widget-view+json": {
       "model_id": "c2ee0345ab8944c1a7dad92b69e16d40",
       "version_major": 2,
       "version_minor": 0
      },
      "text/plain": [
       "FloatSlider(value=0.2, description='I0', max=1.0)"
      ]
     },
     "metadata": {},
     "output_type": "display_data"
    }
   ],
   "source": [
    "b2"
   ]
  },
  {
   "cell_type": "code",
   "execution_count": 6,
   "metadata": {},
   "outputs": [
    {
     "data": {
      "application/vnd.jupyter.widget-view+json": {
       "model_id": "d4982d896b024c1988a08de62190a9a3",
       "version_major": 2,
       "version_minor": 0
      },
      "text/plain": [
       "IntSlider(value=30, description='N', min=10, step=10)"
      ]
     },
     "metadata": {},
     "output_type": "display_data"
    }
   ],
   "source": [
    "b3"
   ]
  },
  {
   "cell_type": "code",
   "execution_count": 7,
   "metadata": {},
   "outputs": [
    {
     "data": {
      "application/vnd.jupyter.widget-view+json": {
       "model_id": "78a73438f4324789b8f8483321bae028",
       "version_major": 2,
       "version_minor": 0
      },
      "text/plain": [
       "FloatSlider(value=0.1, description='beta', max=1.0)"
      ]
     },
     "metadata": {},
     "output_type": "display_data"
    }
   ],
   "source": [
    "b4"
   ]
  },
  {
   "cell_type": "code",
   "execution_count": 8,
   "metadata": {},
   "outputs": [
    {
     "data": {
      "application/vnd.jupyter.widget-view+json": {
       "model_id": "9bd47b7906c448dcb706b6a6301116b9",
       "version_major": 2,
       "version_minor": 0
      },
      "text/plain": [
       "IntSlider(value=5, description='lambda', max=30, min=5)"
      ]
     },
     "metadata": {},
     "output_type": "display_data"
    }
   ],
   "source": [
    "b5"
   ]
  },
  {
   "cell_type": "code",
   "execution_count": 9,
   "metadata": {},
   "outputs": [
    {
     "data": {
      "application/vnd.jupyter.widget-view+json": {
       "model_id": "1e8b0c7d637443728faf0f92f27beb47",
       "version_major": 2,
       "version_minor": 0
      },
      "text/plain": [
       "FloatSlider(value=0.01, description='mu', max=0.1, step=0.01)"
      ]
     },
     "metadata": {},
     "output_type": "display_data"
    }
   ],
   "source": [
    "b6"
   ]
  },
  {
   "cell_type": "code",
   "execution_count": 16,
   "metadata": {},
   "outputs": [],
   "source": [
    "#Parametres d'initialisation : \n",
    "# Veuillez choisir vos valeurs sur les sliders\n",
    "T=30\n",
    "N=b3.value\n",
    "h=T/N\n",
    "S=np.zeros(N);S[0]=b1.value\n",
    "I=np.zeros(N);I[0]=b2.value\n",
    "R=np.zeros(N);R[0]=0\n",
    "b=b4.value\n",
    "ld=b5.value\n",
    "mu=b6.value"
   ]
  },
  {
   "cell_type": "markdown",
   "metadata": {},
   "source": [
    "## EULER EXPLICITE"
   ]
  },
  {
   "cell_type": "code",
   "execution_count": 17,
   "metadata": {},
   "outputs": [],
   "source": [
    "def euler_exp(S,I,R,b,ld,mu,h,N):\n",
    "    for i in range(1,N):\n",
    "        tmp1=np.array([S[i-1],I[i-1],R[i-1]])\n",
    "        S[i],I[i],R[i]=tmp1+h*AIO(tmp1,b,ld,mu,h,N)\n",
    "    return S,I,R"
   ]
  },
  {
   "cell_type": "code",
   "execution_count": 18,
   "metadata": {},
   "outputs": [
    {
     "data": {
      "image/png": "[encoded data removed]",
      "text/plain": [
       "<Figure size 432x288 with 1 Axes>"
      ]
     },
     "metadata": {
      "needs_background": "light"
     },
     "output_type": "display_data"
    }
   ],
   "source": [
    "S,I,R=euler_exp(S,I,R,b,ld,mu,h,N)\n",
    "fig, ax = plt.subplots()\n",
    "ax.plot( S, label='Sain')\n",
    "ax.plot( I, label='Infecte')\n",
    "ax.plot( R, label='Retabli')\n",
    "leg = ax.legend();"
   ]
  },
  {
   "cell_type": "markdown",
   "metadata": {},
   "source": [
    "## EULER IMPLICITE"
   ]
  },
  {
   "cell_type": "code",
   "execution_count": 13,
   "metadata": {},
   "outputs": [],
   "source": [
    "def Fi(b,ld,mu,I,S):\n",
    "    return b*I*S-I/ld-mu*I"
   ]
  },
  {
   "cell_type": "code",
   "execution_count": 14,
   "metadata": {},
   "outputs": [],
   "source": [
    "def pt_fixe(S0,I0,b,ld,mu,h):\n",
    "    y=I0\n",
    "    for i in range (1000):\n",
    "        y=I0+h*Fi(b,ld,mu,y,S0/(1+h*b*y))\n",
    "    return y"
   ]
  },
  {
   "cell_type": "code",
   "execution_count": 15,
   "metadata": {},
   "outputs": [],
   "source": [
    "def euler_imp(S,I,R,b,ld,mu,h,N):\n",
    "    for i in range(0,N-1):\n",
    "        I[i+1]=pt_fixe(S[i],I[i],b,ld,mu,h)\n",
    "        S[i+1]=S[i]-h*b*I[i+1]*(S[i]/(1+h*b*I[i-1]))\n",
    "        R[i+1]=R[i]+(h*I[i+1])/ld\n",
    "    return I,S,R"
   ]
  },
  {
   "cell_type": "code",
   "execution_count": 16,
   "metadata": {},
   "outputs": [
    {
     "data": {
      "image/png": "[encoded data removed]",
      "text/plain": [
       "<Figure size 432x288 with 1 Axes>"
      ]
     },
     "metadata": {
      "needs_background": "light"
     },
     "output_type": "display_data"
    }
   ],
   "source": [
    "I,S,R=euler_imp(S,I,R,b,ld,mu,h,N)\n",
    "fig, ax = plt.subplots()\n",
    "ax.plot( S, label='Sain')\n",
    "ax.plot( I, label='Infecte')\n",
    "ax.plot( R, label='Retabli')\n",
    "leg = ax.legend();"
   ]
  },
  {
   "cell_type": "markdown",
   "metadata": {},
   "source": [
    "## HEUN"
   ]
  },
  {
   "cell_type": "code",
   "execution_count": 17,
   "metadata": {},
   "outputs": [],
   "source": [
    "def Heun(S,I,R,b,ld,mu,h,N):\n",
    "    for i in range (1,N):\n",
    "        tmp1=np.array([S[i-1],I[i-1],R[i-1]])\n",
    "        tmp2=tmp1+h*AIO(tmp1,b,ld,mu,h,N)\n",
    "        S[i],I[i],R[i]=tmp1+(h/2)*(AIO(tmp1,b,ld,mu,h,N)+AIO(tmp2,b,ld,mu,h,N))\n",
    "        return S,I,R"
   ]
  },
  {
   "cell_type": "code",
   "execution_count": 18,
   "metadata": {},
   "outputs": [
    {
     "data": {
      "image/png": "[encoded data removed]",
      "text/plain": [
       "<Figure size 432x288 with 1 Axes>"
      ]
     },
     "metadata": {
      "needs_background": "light"
     },
     "output_type": "display_data"
    }
   ],
   "source": [
    "S,I,R=Heun(S,I,R,b,ld,mu,h,N)\n",
    "fig, ax = plt.subplots()\n",
    "ax.plot( S, label='Sain')\n",
    "ax.plot( I, label='Infecte')\n",
    "ax.plot( R, label='Retabli')\n",
    "leg = ax.legend();"
   ]
  },
  {
   "cell_type": "markdown",
   "metadata": {},
   "source": [
    "## RUNGE KUNTA 4"
   ]
  },
  {
   "cell_type": "code",
   "execution_count": 19,
   "metadata": {},
   "outputs": [],
   "source": [
    "def runge_kutta4(S,I,R,b,ld,mu,h,N):\n",
    "    for i in range (1,N):\n",
    "        tmp1=np.array([S[i-1],I[i-1],R[i-1]])\n",
    "        tmp2=tmp1+(h/2)*AIO(tmp1,b,ld,mu,h,N)\n",
    "        tmp3=tmp1+(h/2)*AIO(tmp2,b,ld,mu,h,N)\n",
    "        tmp4=tmp1+(h/2)*AIO(tmp3,b,ld,mu,h,N)\n",
    "        S[i],I[i],R[i]=tmp1+(h/6)*(AIO(tmp1,b,ld,mu,h,N)+2*AIO(tmp2,b,ld,mu,h,N)+2*AIO(tmp3,b,ld,mu,h,N)+AIO(tmp4,b,ld,mu,h,N))\n",
    "    return S,I,R\n"
   ]
  },
  {
   "cell_type": "code",
   "execution_count": 20,
   "metadata": {},
   "outputs": [
    {
     "data": {
      "image/png": "[encoded data removed]",
      "text/plain": [
       "<Figure size 432x288 with 1 Axes>"
      ]
     },
     "metadata": {
      "needs_background": "light"
     },
     "output_type": "display_data"
    }
   ],
   "source": [
    "S,I,R=runge_kutta4(S,I,R,b,ld,mu,h,N)\n",
    "fig, ax = plt.subplots()\n",
    "ax.plot( S, label='Sain')\n",
    "ax.plot( I, label='Infecte')\n",
    "ax.plot( R, label='Retabli')\n",
    "leg = ax.legend();"
   ]
  },
  {
   "cell_type": "code",
   "execution_count": null,
   "metadata": {},
   "outputs": [],
   "source": []
  },
  {
   "cell_type": "code",
   "execution_count": null,
   "metadata": {},
   "outputs": [],
   "source": []
  }
 ],
 "metadata": {
  "kernelspec": {
   "display_name": "Python 3",
   "language": "python",
   "name": "python3"
  },
  "language_info": {
   "codemirror_mode": {
    "name": "ipython",
    "version": 3
   },
   "file_extension": ".py",
   "mimetype": "text/x-python",
   "name": "python",
   "nbconvert_exporter": "python",
   "pygments_lexer": "ipython3",
   "version": "3.8.5"
  }
 },
 "nbformat": 4,
 "nbformat_minor": 4
}
